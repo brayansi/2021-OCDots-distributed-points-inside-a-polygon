{
 "cells": [
  {
   "cell_type": "markdown",
   "metadata": {},
   "source": [
    "# Split polygon\n",
    "The objective of this notebook is to devise a method for creating an array of somewhat equaly spaced points inside of a polygon."
   ]
  },
  {
   "cell_type": "code",
   "execution_count": 1,
   "metadata": {},
   "outputs": [],
   "source": [
    "import numpy as np\n",
    "from skimage import draw, io\n",
    "import matplotlib.pyplot as plt\n",
    "from tqdm.notebook import trange, tqdm"
   ]
  },
  {
   "cell_type": "markdown",
   "metadata": {},
   "source": [
    "## Strategy - Physics\n",
    "The first approach is to run a physics simulation to make the points relax maximizing the distances beteween them. We start with an array of random points"
   ]
  },
  {
   "cell_type": "code",
   "execution_count": 2,
   "metadata": {},
   "outputs": [
    {
     "data": {
      "image/png": "[encoded data removed]",
      "text/plain": [
       "<Figure size 576x576 with 1 Axes>"
      ]
     },
     "metadata": {
      "needs_background": "light"
     },
     "output_type": "display_data"
    },
    {
     "data": {
      "image/png": "[encoded data removed]",
      "text/plain": [
       "<Figure size 576x576 with 1 Axes>"
      ]
     },
     "metadata": {
      "needs_background": "light"
     },
     "output_type": "display_data"
    }
   ],
   "source": [
    "def draw_polygon(img, polygon):\n",
    "    max_y = max([p[0] for p in polygon]) + 1\n",
    "    max_x = max([p[1] for p in polygon]) + 1\n",
    "    rs, cs = zip(*polygon)\n",
    "    rr, cc = draw.polygon_perimeter(rs, cs, [max_y, max_x])\n",
    "    img[rr, cc,:] = [0, 0, 0]\n",
    "    \n",
    "def plot_points(img, points, polygon=None, show=True, save=None):\n",
    "    max_y = max([p[0] for p in polygon]) + 1\n",
    "    max_x = max([p[1] for p in polygon]) + 1\n",
    "\n",
    "    for p in points:\n",
    "        rr, cc = draw.circle(*p, 6, [max_y, max_x])\n",
    "        img[rr, cc,:] = [0, 0, 0]\n",
    "    if polygon:\n",
    "        draw_polygon(img, polygon)\n",
    "    if save:\n",
    "        io.imsave(save, img.astype(np.uint8), check_contrast=False)\n",
    "    if show:\n",
    "        fig = plt.figure(figsize=(8, 8))\n",
    "        plt.axis('off')\n",
    "        plt.imshow(img)\n",
    "\n",
    "\n",
    "size = 600\n",
    "N = 20\n",
    "points = np.random.rand(N, 2) * (size-1)\n",
    "rectangle = [\n",
    "    [0, 0], \n",
    "    [0, size-1], \n",
    "    [size-1, size-1], \n",
    "    [size-1, 0], \n",
    "    [0, 0]\n",
    "]\n",
    "triangle = [\n",
    "    [0, 0], \n",
    "    [0, size-1], \n",
    "    [size//2-1, size-1], \n",
    "    [0, 0]\n",
    "]\n",
    "img = np.ones([size, size, 3],dtype=np.uint8) * 255\n",
    "plot_points(img, points, rectangle, True, \"random_rectangle.png\")\n",
    "img = np.ones([size, size, 3],dtype=np.uint8) * 255\n",
    "plot_points(img, points, triangle, True, \"random_triangle.png\")"
   ]
  },
  {
   "cell_type": "markdown",
   "metadata": {},
   "source": [
    "Then we calculate forces between the points and also add a force relative to the walls. We add momentum, drag an viscosity to accelerate the convergence."
   ]
  },
  {
   "cell_type": "code",
   "execution_count": 3,
   "metadata": {
    "scrolled": false
   },
   "outputs": [
    {
     "name": "stdout",
     "output_type": "stream",
     "text": [
      "zsh:1: no matches found: points/*\r\n"
     ]
    },
    {
     "data": {
      "application/vnd.jupyter.widget-view+json": {
       "model_id": "bf989d81b11841ca8b70417596756cf1",
       "version_major": 2,
       "version_minor": 0
      },
      "text/plain": [
       "HBox(children=(FloatProgress(value=0.0, description='building frames', max=240.0, style=ProgressStyle(descript…"
      ]
     },
     "metadata": {},
     "output_type": "display_data"
    },
    {
     "name": "stdout",
     "output_type": "stream",
     "text": [
      "\n",
      "building gif:\n",
      "gifski created rectangle_20p.gif                                                "
     ]
    }
   ],
   "source": [
    "def relax_points(\n",
    "        points, \n",
    "        momentum, \n",
    "        base_force, \n",
    "        drag,\n",
    "        viscosity,\n",
    "        boundary_fn,\n",
    "        boundary_fn_args,\n",
    "        boundary,\n",
    "    ):\n",
    "    p = points.copy()\n",
    "    m = momentum.copy()\n",
    "    \n",
    "    # Calculate forces\n",
    "    N = len(points)\n",
    "    points_forces = compute_point_forces(p)\n",
    "    boundary_forces = boundary_fn(\n",
    "        p, *boundary_fn_args).reshape((N, 1, 2))\n",
    "    final_forces = np.concatenate(\n",
    "        [points_forces, boundary_forces],\n",
    "        axis=1\n",
    "    ).sum(axis=1)\n",
    "    \n",
    "    # Final momentum\n",
    "    m += final_forces * base_force\n",
    "    \n",
    "    # Add friction and limit momentum\n",
    "    m_modulus = np.linalg.norm(m, axis=1).reshape((-1, 1))\n",
    "    m_direction = m/m_modulus\n",
    "    m_modulus -= drag * m_modulus**2\n",
    "    m_modulus[m_modulus<=viscosity] /= 10\n",
    "    m_modulus[m_modulus<=0] = 1  # Make things a little sticky\n",
    "    m = m_modulus * m_direction\n",
    "    \n",
    "    \n",
    "    # Prevent points from going out of bounds\n",
    "    outbounds = ~check_inbounds(p + m, boundary)\n",
    "    m[outbounds] = 0\n",
    "    m[outbounds] = 0\n",
    "    \n",
    "    # Move points\n",
    "    dp = m.copy()\n",
    "    dp[dp > 2] = 2\n",
    "    p += dp\n",
    "    return p, m\n",
    "\n",
    "\n",
    "def compute_point_forces(points):\n",
    "    forces = []\n",
    "    for p1 in points:\n",
    "        distances = points - p1\n",
    "        distance_norm = np.linalg.norm(distances, axis=1).reshape((-1, 1))\n",
    "        distance_norm[distance_norm == 0] = np.inf\n",
    "        force_direction = distances/distance_norm\n",
    "        forces.append(force_direction/distance_norm**2)\n",
    "    return -np.array(forces)\n",
    "\n",
    "\n",
    "def compute_wall_forces(points, wall):\n",
    "    # Outer wall force\n",
    "    outer_dist = points - wall\n",
    "    outer_dist[outer_dist == 0] = np.inf\n",
    "    outer_force = -1/(outer_dist**2)\n",
    "    # Inner wall force\n",
    "    inner_dist = points\n",
    "    inner_dist[inner_dist == 0] = np.inf\n",
    "    inner_force = 1/(inner_dist**2)\n",
    "    return inner_force + outer_force\n",
    "\n",
    "\n",
    "def check_inbounds(points, poly):\n",
    "    #  TODO - vectorize this\n",
    "    inbound = []\n",
    "    for x, y in points:\n",
    "        c = False\n",
    "        for (ppx, ppy), (pnx, pny) in zip(poly[1:], poly):\n",
    "            if ((pny > y) != (ppy > y)) and \\\n",
    "                (x < pnx + (ppx - pnx) * \n",
    "                 (y - pny) / (ppy - pny)):\n",
    "                c = not c\n",
    "        inbound.append(c)\n",
    "    return np.array(inbound)\n",
    "\n",
    "\n",
    "def build_animation(\n",
    "        points, \n",
    "        base_force,\n",
    "        drag,\n",
    "        viscosity,\n",
    "#         heat_loss,\n",
    "        iterations,\n",
    "        boundary_fn,\n",
    "        boundary_fn_args,\n",
    "        boundary,\n",
    "        output_name,\n",
    "    ):\n",
    "    N = len(points)\n",
    "    p, m = points.copy(), np.zeros((N, 2))\n",
    "    !rm -f points/*\n",
    "    \n",
    "    min_y = min([b[0] for b in boundary])\n",
    "    max_y = max([b[0] for b in boundary])\n",
    "    min_x = min([b[1] for b in boundary])\n",
    "    max_x = max([b[1] for b in boundary])\n",
    "    \n",
    "    width = np.ceil(max_x - min_x + 1).astype(np.uint16)\n",
    "    height = np.ceil(max_y - min_y + 1).astype(np.uint16)\n",
    "    for i in trange(iterations, desc=\"building frames\"):\n",
    "        p, m = relax_points(\n",
    "            p, \n",
    "            m, \n",
    "            base_force, \n",
    "#             drag * heat_loss ** i,\n",
    "            drag,\n",
    "            viscosity,\n",
    "            boundary_fn, \n",
    "            boundary_fn_args,\n",
    "            boundary,\n",
    "        )\n",
    "        img = np.ones([height, width, 3],dtype=np.uint8) * 255\n",
    "        plot_points(img, p, boundary, False, f\"points/frame_{str(i).zfill(4)}.png\")\n",
    "    !echo 'building gif:' && gifski -o {output_name} --width {width} points/frame*\n",
    "\n",
    "N = 20\n",
    "points = np.random.rand(N, 2) * (size-1)\n",
    "base_force = size*100\n",
    "drag = 0.02\n",
    "viscosity = 0.01\n",
    "# heat_loss = 1.1\n",
    "iterations = 240\n",
    "\n",
    "build_animation(\n",
    "        points, \n",
    "        base_force, \n",
    "        drag,\n",
    "        viscosity,\n",
    "#         heat_loss,\n",
    "        iterations,\n",
    "        compute_wall_forces,\n",
    "        (size,),\n",
    "        rectangle,\n",
    "        f\"rectangle_{N}p.gif\"\n",
    "    )"
   ]
  },
  {
   "cell_type": "markdown",
   "metadata": {},
   "source": [
    "![rectangle_20p](rectangle_20p.gif)"
   ]
  },
  {
   "cell_type": "code",
   "execution_count": 4,
   "metadata": {},
   "outputs": [
    {
     "data": {
      "application/vnd.jupyter.widget-view+json": {
       "model_id": "f175a82040c140d286bc47ff2a36e5fc",
       "version_major": 2,
       "version_minor": 0
      },
      "text/plain": [
       "HBox(children=(FloatProgress(value=0.0, description='building frames', max=600.0, style=ProgressStyle(descript…"
      ]
     },
     "metadata": {},
     "output_type": "display_data"
    },
    {
     "name": "stdout",
     "output_type": "stream",
     "text": [
      "\n",
      "building gif:\n",
      "gifski created rectangle_100p.gif                                               "
     ]
    }
   ],
   "source": [
    "N = 100\n",
    "points = np.random.rand(N, 2) * (size-1)\n",
    "base_force = size*1\n",
    "drag = 0.02\n",
    "viscosity = 0.01\n",
    "iterations = 600\n",
    "\n",
    "build_animation(\n",
    "        points, \n",
    "        base_force,\n",
    "        drag,\n",
    "        viscosity,\n",
    "        iterations,\n",
    "        compute_wall_forces,\n",
    "        (size,),\n",
    "        rectangle,\n",
    "        f\"rectangle_{N}p.gif\"\n",
    "    )"
   ]
  },
  {
   "cell_type": "markdown",
   "metadata": {},
   "source": [
    "![rectangle_100p](rectangle_100p.gif)"
   ]
  },
  {
   "cell_type": "markdown",
   "metadata": {},
   "source": [
    "Then, adding a polygonal boundary we get the following:"
   ]
  },
  {
   "cell_type": "code",
   "execution_count": 5,
   "metadata": {
    "scrolled": false
   },
   "outputs": [
    {
     "data": {
      "application/vnd.jupyter.widget-view+json": {
       "model_id": "292730392799477aa7227ebbcaded0c5",
       "version_major": 2,
       "version_minor": 0
      },
      "text/plain": [
       "HBox(children=(FloatProgress(value=0.0, description='building frames', max=240.0, style=ProgressStyle(descript…"
      ]
     },
     "metadata": {},
     "output_type": "display_data"
    },
    {
     "name": "stdout",
     "output_type": "stream",
     "text": [
      "\n",
      "building gif:\n",
      "gifski created triangle_25p.gif                                                 "
     ]
    }
   ],
   "source": [
    "def compute_polygon_forces(points, polygon):\n",
    "    poly_forces = []\n",
    "    for pt in points:\n",
    "        # Calculate wall forces\n",
    "        walls = np.array([distance_pt_line(pt, np.array(v1), np.array(v2)) \n",
    "                 for v1, v2 in zip(polygon, polygon[1:])])\n",
    "        walls_modulus = np.linalg.norm(walls, axis=1).reshape((-1, 1))\n",
    "        walls_modulus[walls_modulus == 0] = np.inf\n",
    "        walls_directions = walls/walls_modulus\n",
    "        wall_forces = walls_directions/(walls_modulus**2)\n",
    "        \n",
    "        # Calculate vertex forces\n",
    "        vertex = np.array([pt - np.array(v) for v in polygon[:-1]])\n",
    "        vertex_modulus = np.linalg.norm(vertex, axis=1).reshape((-1, 1))\n",
    "        vertex_modulus[vertex_modulus == 0] = np.inf\n",
    "        vertex_directions = vertex/vertex_modulus\n",
    "        vertex_forces = vertex_directions/(vertex_modulus**2)\n",
    "        poly_forces.append(\n",
    "            wall_forces.sum(axis=0) +\n",
    "            vertex_forces.sum(axis=0))\n",
    "    return -np.array(poly_forces)\n",
    "        \n",
    "        \n",
    "def distance_pt_line(pt, v1, v2):\n",
    "    \"\"\" \n",
    "    https://en.wikipedia.org/wiki/Distance_from_a_point_to_a_line\n",
    "    \"\"\"\n",
    "    if all(v1 == pt) or all(v2 == pt):\n",
    "        return [0, 0]\n",
    "    if np.arccos(np.dot(\n",
    "            (pt - v1) / np.linalg.norm(pt - v1), \n",
    "            (v2 - v1) / np.linalg.norm(v2 - v1))) > np.pi / 2:\n",
    "        return -(pt - v1)\n",
    "    if np.arccos(np.dot(\n",
    "            (pt - v2) / np.linalg.norm(pt - v2), \n",
    "            (v1 - v2) / np.linalg.norm(v1 - v2))) > np.pi / 2:\n",
    "        return -(pt - v2)\n",
    "    n = (v1-v2)/np.linalg.norm(v1-v2)\n",
    "    return (v1-pt) - (np.dot((v1-pt), n))*n\n",
    "\n",
    "\n",
    "def random_in_polygon(N, polygon):\n",
    "    points = []\n",
    "    x_min = min([px for px, py in polygon])\n",
    "    x_max = max([px for px, py in polygon])\n",
    "    y_min = min([py for px, py in polygon])\n",
    "    y_max = max([py for px, py in polygon])\n",
    "    while len(points) < N:\n",
    "        px, py = np.random.rand(2)\n",
    "        px *= x_max - x_min\n",
    "        px += x_min\n",
    "        py *= y_max - y_min\n",
    "        py += y_min\n",
    "        if check_inbounds([[px, py]], polygon)[0]:\n",
    "            points.append([px, py])\n",
    "    return np.array(points)  \n",
    "\n",
    "\n",
    "base_force = size*10\n",
    "drag = 0.02\n",
    "viscosity = 0.02\n",
    "iterations = 240\n",
    "N = 25\n",
    "points = random_in_polygon(N, triangle)\n",
    "build_animation(\n",
    "    points, \n",
    "    base_force,\n",
    "    drag,\n",
    "    viscosity,\n",
    "    iterations,\n",
    "    compute_polygon_forces,\n",
    "    (triangle,),\n",
    "    triangle,\n",
    "    f\"triangle_{N}p.gif\"\n",
    ")"
   ]
  },
  {
   "cell_type": "markdown",
   "metadata": {},
   "source": [
    "![triangle_25p](triangle_25p.gif)"
   ]
  },
  {
   "cell_type": "code",
   "execution_count": 6,
   "metadata": {},
   "outputs": [
    {
     "data": {
      "application/vnd.jupyter.widget-view+json": {
       "model_id": "e2ac4958b01545e698193191c92926e6",
       "version_major": 2,
       "version_minor": 0
      },
      "text/plain": [
       "HBox(children=(FloatProgress(value=0.0, description='building frames', max=240.0, style=ProgressStyle(descript…"
      ]
     },
     "metadata": {},
     "output_type": "display_data"
    },
    {
     "name": "stdout",
     "output_type": "stream",
     "text": [
      "\n",
      "building gif:\n",
      "gifski created polygon_poly_20p.gif                                             "
     ]
    }
   ],
   "source": [
    "polygon = [\n",
    "    [0, 0],\n",
    "    [500, 20],\n",
    "    [600, 400],\n",
    "    [500, 600],\n",
    "    [400, 500],\n",
    "    [100, 600],\n",
    "    [120, 160],\n",
    "    [10, 10],\n",
    "]\n",
    "N = 20\n",
    "points = random_in_polygon(N, polygon)\n",
    "build_animation(\n",
    "    points, \n",
    "    base_force, \n",
    "    drag,\n",
    "    viscosity,\n",
    "    iterations,\n",
    "    compute_polygon_forces,\n",
    "    (polygon,),\n",
    "    polygon,\n",
    "    f\"polygon_poly_{N}p.gif\"\n",
    ")"
   ]
  },
  {
   "cell_type": "markdown",
   "metadata": {},
   "source": [
    "![polygon_poly_20p](polygon_poly_20p.gif)"
   ]
  },
  {
   "cell_type": "code",
   "execution_count": 7,
   "metadata": {},
   "outputs": [
    {
     "data": {
      "application/vnd.jupyter.widget-view+json": {
       "model_id": "af1a60b16e04480e910ad3ff53325556",
       "version_major": 2,
       "version_minor": 0
      },
      "text/plain": [
       "HBox(children=(FloatProgress(value=0.0, description='building frames', max=240.0, style=ProgressStyle(descript…"
      ]
     },
     "metadata": {},
     "output_type": "display_data"
    },
    {
     "name": "stdout",
     "output_type": "stream",
     "text": [
      "\n",
      "building gif:\n",
      "gifski created polygon_poly_10p.gif                                             "
     ]
    }
   ],
   "source": [
    "N = 10\n",
    "points = random_in_polygon(N, polygon)\n",
    "build_animation(\n",
    "    points, \n",
    "    base_force, \n",
    "    drag,\n",
    "    viscosity,\n",
    "    iterations,\n",
    "    compute_polygon_forces,\n",
    "    (polygon,),\n",
    "    polygon,\n",
    "    f\"polygon_poly_{N}p.gif\"\n",
    ")"
   ]
  },
  {
   "cell_type": "markdown",
   "metadata": {},
   "source": [
    "![polygon_poly_10p](polygon_poly_10p.gif)"
   ]
  },
  {
   "cell_type": "code",
   "execution_count": 8,
   "metadata": {},
   "outputs": [
    {
     "data": {
      "application/vnd.jupyter.widget-view+json": {
       "model_id": "860d1f46d6174313b7d26580db4532e4",
       "version_major": 2,
       "version_minor": 0
      },
      "text/plain": [
       "HBox(children=(FloatProgress(value=0.0, description='building frames', max=240.0, style=ProgressStyle(descript…"
      ]
     },
     "metadata": {},
     "output_type": "display_data"
    },
    {
     "name": "stdout",
     "output_type": "stream",
     "text": [
      "\n",
      "building gif:\n",
      "gifski created polygon_poly_30p.gif                                             "
     ]
    }
   ],
   "source": [
    "N = 30\n",
    "points = random_in_polygon(N, polygon)\n",
    "build_animation(\n",
    "    points, \n",
    "    base_force, \n",
    "    drag,\n",
    "    viscosity,\n",
    "    iterations,\n",
    "    compute_polygon_forces,\n",
    "    (polygon,),\n",
    "    polygon,\n",
    "    f\"polygon_poly_{N}p.gif\"\n",
    ")"
   ]
  },
  {
   "cell_type": "markdown",
   "metadata": {},
   "source": [
    "![polygon_poly_30p](polygon_poly_30p.gif)"
   ]
  },
  {
   "cell_type": "code",
   "execution_count": 9,
   "metadata": {},
   "outputs": [],
   "source": [
    "geoPoints = [[\n",
    "    {\"lat\":-22.806057244438897,\"id\":\"AhJGnWW6GIbfpjvPd3Fv\",\"lng\":-47.06434536752459},\n",
    "    {\"lng\":-47.06424344358202,\"id\":\"Ie3paERCGaSqYLhlt9do\",\"lat\":-22.80473691249149},\n",
    "    {\"lng\":-47.06357825574633,\"lat\":-22.804781418271087,\"id\":\"dlW4euSOEf70J5f635I3\"},\n",
    "    {\"lng\":-47.063647993180716,\"lat\":-22.806101749787267,\"id\":\"SZ3iMOK1ic7CG9e6v04C\"}\n",
    "], [\n",
    "    {\"lng\":-47.06365315667577,\"lat\":-22.806191708694193,\"id\":\"cdWXCC1i0AV84WUgCgS2\"},\n",
    "    {\"lng\":-47.065745279707386,\"id\":\"VgpvCmdcrOSetTi1ml3X\",\"lat\":-22.80607302781124},\n",
    "    {\"lat\":-22.80313521472781,\"id\":\"QoLYLk5idWU3xCiDbImp\",\"lng\":-47.065598160057505},\n",
    "    {\"id\":\"LSuOgpUi7J8j3kRxZeHQ\",\"lat\":-22.803266261021946,\"lng\":-47.063438981800516},{\"lng\":-47.06360845098712,\"lat\":-22.80619765802111,\"id\":\"Jso40iNVpFzWuesK7pwL\"}\n",
    "], [\n",
    "    {\"lng\":-47.06434536752459,\"lat\":-22.806057244438897,\"id\":\"AhJGnWW6GIbfpjvPd3Fv\"},\n",
    "    {\"lat\":-22.80473691249149,\"id\":\"Ie3paERCGaSqYLhlt9do\",\"lng\":-47.06424344358202},\n",
    "    {\"lat\":-22.804781418271087,\"id\":\"dlW4euSOEf70J5f635I3\",\"lng\":-47.06357825574633},\n",
    "    {\"id\":\"SZ3iMOK1ic7CG9e6v04C\",\"lat\":-22.806101749787267,\"lng\":-47.063647993180716}\n",
    "], [\n",
    "    {\"lng\":-47.06434536752459,\"lat\":-22.806057244438897,\"id\":\"AhJGnWW6GIbfpjvPd3Fv\"},\n",
    "    {\"id\":\"Ie3paERCGaSqYLhlt9do\",\"lng\":-47.06424344358202,\"lat\":-22.80473691249149},\n",
    "    {\"lat\":-22.804781418271087,\"id\":\"dlW4euSOEf70J5f635I3\",\"lng\":-47.06357825574633},\n",
    "    {\"lat\":-22.806101749787267,\"lng\":-47.063647993180716,\"id\":\"SZ3iMOK1ic7CG9e6v04C\"}\n",
    "], [\n",
    "    {\"lat\":-22.806191708694193,\"id\":\"cdWXCC1i0AV84WUgCgS2\",\"lng\":-47.06365315667577},\n",
    "    {\"id\":\"VgpvCmdcrOSetTi1ml3X\",\"lat\":-22.80607302781124,\"lng\":-47.065745279707386},\n",
    "    {\"lng\":-47.065598160057505,\"lat\":-22.80313521472781,\"id\":\"QoLYLk5idWU3xCiDbImp\"},\n",
    "    {\"lng\":-47.063438981800516,\"lat\":-22.803266261021946,\"id\":\"LSuOgpUi7J8j3kRxZeHQ\"},{\"lat\":-22.80619765802111,\"id\":\"Jso40iNVpFzWuesK7pwL\",\"lng\":-47.06360845098712}\n",
    "], [\n",
    "    {\"lng\":-47.06434536752459,\"lat\":-22.806057244438897,\"id\":\"AhJGnWW6GIbfpjvPd3Fv\"},\n",
    "    {\"lat\":-22.80473691249149,\"id\":\"Ie3paERCGaSqYLhlt9do\",\"lng\":-47.06424344358202},\n",
    "    {\"id\":\"dlW4euSOEf70J5f635I3\",\"lng\":-47.06357825574633,\"lat\":-22.804781418271087},\n",
    "    {\"lat\":-22.806101749787267,\"id\":\"SZ3iMOK1ic7CG9e6v04C\",\"lng\":-47.063647993180716}\n",
    "], [\n",
    "    {\"id\":\"fmSnG2glOqqNHmrhlhrp\",\"lng\":-54.856194535549825,\"lat\":-24.544600819697102},\n",
    "    {\"lng\":-54.85802380209798,\"lat\":-24.542912439236932,\"id\":\"cd86FP4gLB5Nxh2znnce\"},\n",
    "    {\"id\":\"ytjA9hjUinEn6aVugx8A\",\"lat\":-24.54410309140282,\"lng\":-54.85905913477773},\n",
    "    {\"id\":\"3K0L53o6XBJVjmhFtI1f\",\"lng\":-54.859466830547994,\"lat\":-24.54478624738033},\n",
    "    {\"id\":\"yAHZftnkNQjnFsstfL7i\",\"lat\":-24.545673218507314,\"lng\":-54.859905614956986},\n",
    "    {\"lng\":-54.86025966654695,\"id\":\"LEh9KTgvB9iKadsU5OFW\",\"lat\":-24.54660034625811},\n",
    "    {\"id\":\"XkCHsy5AtCPy5saD848r\",\"lng\":-54.86045165303607,\"lat\":-24.54840753037782}]\n",
    "]"
   ]
  },
  {
   "cell_type": "code",
   "execution_count": 10,
   "metadata": {},
   "outputs": [
    {
     "data": {
      "application/vnd.jupyter.widget-view+json": {
       "model_id": "d00a908a644d463494dc0069054a8a78",
       "version_major": 2,
       "version_minor": 0
      },
      "text/plain": [
       "HBox(children=(FloatProgress(value=0.0, description='building frames', max=240.0, style=ProgressStyle(descript…"
      ]
     },
     "metadata": {},
     "output_type": "display_data"
    },
    {
     "name": "stdout",
     "output_type": "stream",
     "text": [
      "\n",
      "building gif:\n",
      "gifski created geo_0_20.gif                                                     "
     ]
    }
   ],
   "source": [
    "def build_geo_animation(\n",
    "        N,\n",
    "        geo_boundaries,\n",
    "        output_name,\n",
    "    ):\n",
    "    base_force = size*100\n",
    "    drag = 0.05\n",
    "    viscosity = 0.02\n",
    "    iterations = 240\n",
    "    boundary_fn = compute_polygon_forces\n",
    "    \n",
    "    min_lat = min([g[\"lat\"] for g in geo_boundaries])\n",
    "    max_lat = max([g[\"lat\"] for g in geo_boundaries])\n",
    "    min_lng = min([g[\"lng\"] for g in geo_boundaries])\n",
    "    max_lng = max([g[\"lng\"] for g in geo_boundaries])\n",
    "    width = 25 * N\n",
    "    delta = width/(max_lng - min_lng) \n",
    "    \n",
    "    polygon = [\n",
    "        [\n",
    "            delta*(g[\"lat\"] - min_lat),\n",
    "            delta*(g[\"lng\"] - min_lng),\n",
    "            \n",
    "        ] \n",
    "        for g in geo_boundaries\n",
    "    ]\n",
    "\n",
    "    origin = [0, 0]\n",
    "    refvec = [1, 0]\n",
    "    polygon = list(sorted(polygon, key=lambda x: clockwiseangle_and_distance(x, origin, refvec)))\n",
    "    polygon.append(polygon[0])\n",
    "    points = random_in_polygon(N, polygon)\n",
    "    build_animation(\n",
    "        points, \n",
    "        base_force, \n",
    "        drag,\n",
    "        viscosity,\n",
    "        iterations,\n",
    "        boundary_fn,\n",
    "        (polygon,),\n",
    "        polygon,\n",
    "        output_name\n",
    "    )\n",
    "\n",
    "import math\n",
    "def clockwiseangle_and_distance(point, origin, refvec):\n",
    "    # Vector between point and the origin: v = p - o\n",
    "    vector = [point[0]-origin[0], point[1]-origin[1]]\n",
    "    # Length of vector: ||v||\n",
    "    lenvector = math.hypot(vector[0], vector[1])\n",
    "    # If length is zero there is no angle\n",
    "    if lenvector == 0:\n",
    "        return -math.pi, 0\n",
    "    # Normalize vector: v/||v||\n",
    "    normalized = [vector[0]/lenvector, vector[1]/lenvector]\n",
    "    dotprod  = normalized[0]*refvec[0] + normalized[1]*refvec[1]     # x1*x2 + y1*y2\n",
    "    diffprod = refvec[1]*normalized[0] - refvec[0]*normalized[1]     # x1*y2 - y1*x2\n",
    "    angle = math.atan2(diffprod, dotprod)\n",
    "    # Negative angles represent counter-clockwise angles so we need to subtract them \n",
    "    # from 2*pi (360 degrees)\n",
    "    if angle < 0:\n",
    "        return 2*math.pi+angle, lenvector\n",
    "    # I return first the angle because that's the primary sorting criterium\n",
    "    # but if two vectors have the same angle then the shorter distance should come first.\n",
    "    return angle, lenvector\n",
    "\n",
    "N = 20\n",
    "idx = 0\n",
    "build_geo_animation(\n",
    "    N,\n",
    "    geoPoints[idx],\n",
    "    f\"geo_{idx}_{N}.gif\")"
   ]
  },
  {
   "cell_type": "markdown",
   "metadata": {},
   "source": [
    "![geo_0_20.gif](geo_0_20.gif)"
   ]
  },
  {
   "cell_type": "code",
   "execution_count": 11,
   "metadata": {},
   "outputs": [
    {
     "data": {
      "application/vnd.jupyter.widget-view+json": {
       "model_id": "8c745fbe190c404f931f79ecf47c9acd",
       "version_major": 2,
       "version_minor": 0
      },
      "text/plain": [
       "HBox(children=(FloatProgress(value=0.0, description='building frames', max=240.0, style=ProgressStyle(descript…"
      ]
     },
     "metadata": {},
     "output_type": "display_data"
    },
    {
     "name": "stdout",
     "output_type": "stream",
     "text": [
      "\n",
      "building gif:\n",
      "gifski created geo_1_20.gif                                                     "
     ]
    }
   ],
   "source": [
    "idx = 1\n",
    "build_geo_animation(\n",
    "    N,\n",
    "    geoPoints[idx],\n",
    "    f\"geo_{idx}_{N}.gif\")"
   ]
  },
  {
   "cell_type": "code",
   "execution_count": 12,
   "metadata": {},
   "outputs": [
    {
     "data": {
      "application/vnd.jupyter.widget-view+json": {
       "model_id": "426e39e962f144f098be9cc0aec0f6d9",
       "version_major": 2,
       "version_minor": 0
      },
      "text/plain": [
       "HBox(children=(FloatProgress(value=0.0, description='building frames', max=240.0, style=ProgressStyle(descript…"
      ]
     },
     "metadata": {},
     "output_type": "display_data"
    },
    {
     "name": "stdout",
     "output_type": "stream",
     "text": [
      "\n",
      "building gif:\n",
      "gifski created geo_2_20.gif                                                     "
     ]
    }
   ],
   "source": [
    "idx = 2\n",
    "build_geo_animation(\n",
    "    N,\n",
    "    geoPoints[idx],\n",
    "    f\"geo_{idx}_{N}.gif\")"
   ]
  },
  {
   "cell_type": "code",
   "execution_count": 13,
   "metadata": {},
   "outputs": [
    {
     "data": {
      "application/vnd.jupyter.widget-view+json": {
       "model_id": "d7abffe5bb1d4e79b2a59510c78ed3fd",
       "version_major": 2,
       "version_minor": 0
      },
      "text/plain": [
       "HBox(children=(FloatProgress(value=0.0, description='building frames', max=240.0, style=ProgressStyle(descript…"
      ]
     },
     "metadata": {},
     "output_type": "display_data"
    },
    {
     "name": "stdout",
     "output_type": "stream",
     "text": [
      "\n",
      "building gif:\n",
      "gifski created geo_3_20.gif                                                     "
     ]
    }
   ],
   "source": [
    "idx = 3\n",
    "build_geo_animation(\n",
    "    N,\n",
    "    geoPoints[idx],\n",
    "    f\"geo_{idx}_{N}.gif\")"
   ]
  },
  {
   "cell_type": "code",
   "execution_count": 14,
   "metadata": {},
   "outputs": [
    {
     "data": {
      "application/vnd.jupyter.widget-view+json": {
       "model_id": "0f11c99121c146d49a91d83c87184e4c",
       "version_major": 2,
       "version_minor": 0
      },
      "text/plain": [
       "HBox(children=(FloatProgress(value=0.0, description='building frames', max=240.0, style=ProgressStyle(descript…"
      ]
     },
     "metadata": {},
     "output_type": "display_data"
    },
    {
     "name": "stdout",
     "output_type": "stream",
     "text": [
      "\n",
      "building gif:\n",
      "gifski created geo_4_20.gif                                                     "
     ]
    }
   ],
   "source": [
    "idx = 4\n",
    "build_geo_animation(\n",
    "    N,\n",
    "    geoPoints[idx],\n",
    "    f\"geo_{idx}_{N}.gif\")"
   ]
  },
  {
   "cell_type": "code",
   "execution_count": 15,
   "metadata": {},
   "outputs": [
    {
     "data": {
      "application/vnd.jupyter.widget-view+json": {
       "model_id": "45d059c577a84424995b8932ef4186de",
       "version_major": 2,
       "version_minor": 0
      },
      "text/plain": [
       "HBox(children=(FloatProgress(value=0.0, description='building frames', max=240.0, style=ProgressStyle(descript…"
      ]
     },
     "metadata": {},
     "output_type": "display_data"
    },
    {
     "name": "stdout",
     "output_type": "stream",
     "text": [
      "\n",
      "building gif:\n",
      "gifski created geo_5_20.gif                                                     "
     ]
    }
   ],
   "source": [
    "idx = 5\n",
    "build_geo_animation(\n",
    "    N,\n",
    "    geoPoints[idx],\n",
    "    f\"geo_{idx}_{N}.gif\")"
   ]
  },
  {
   "cell_type": "code",
   "execution_count": 16,
   "metadata": {},
   "outputs": [
    {
     "data": {
      "application/vnd.jupyter.widget-view+json": {
       "model_id": "d008322079454d909b76b9225d4665ff",
       "version_major": 2,
       "version_minor": 0
      },
      "text/plain": [
       "HBox(children=(FloatProgress(value=0.0, description='building frames', max=240.0, style=ProgressStyle(descript…"
      ]
     },
     "metadata": {},
     "output_type": "display_data"
    },
    {
     "name": "stdout",
     "output_type": "stream",
     "text": [
      "\n",
      "building gif:\n",
      "gifski created geo_6_20.gif                                                     "
     ]
    }
   ],
   "source": [
    "idx = 6\n",
    "build_geo_animation(\n",
    "    N,\n",
    "    geoPoints[idx],\n",
    "    f\"geo_{idx}_{N}.gif\")"
   ]
  },
  {
   "cell_type": "markdown",
   "metadata": {},
   "source": [
    "![geo_1_20.gif](geo_1_20.gif)\n",
    "![geo_2_20.gif](geo_2_20.gif)\n",
    "![geo_3_20.gif](geo_3_20.gif)\n",
    "![geo_4_20.gif](geo_4_20.gif)\n",
    "![geo_5_20.gif](geo_5_20.gif)\n",
    "![geo_6_20.gif](geo_6_20.gif)"
   ]
  },
  {
   "cell_type": "code",
   "execution_count": 25,
   "metadata": {},
   "outputs": [
    {
     "data": {
      "text/plain": [
       "<matplotlib.collections.PathCollection at 0x7fc7212263d0>"
      ]
     },
     "execution_count": 25,
     "metadata": {},
     "output_type": "execute_result"
    },
    {
     "data": {
      "image/png": "[encoded data removed]",
      "text/plain": [
       "<Figure size 432x288 with 1 Axes>"
      ]
     },
     "metadata": {
      "needs_background": "light"
     },
     "output_type": "display_data"
    }
   ],
   "source": [
    "a =np.array([\n",
    "                [0, 0], [500, 500],\n",
    "    [ 360.4642650342118, 419.3875532142838 ],\n",
    "      [ 442.27935834144193, 315.51471627106577 ],\n",
    "      [ 184.94846778195537, 301.4503505948413 ],\n",
    "      [ 444.67073445403076, 435.3057739952226 ],\n",
    "      [ 49.46432345195794, 451.45525768064374 ],\n",
    "      [ 349.58635071433946, 318.01619823484594 ],\n",
    "      [ 83.78248178801624, 305.3216204934017 ],\n",
    "      [ 59.53154238549827, 374.7112528322925 ],\n",
    "      [ 136.56060288371825, 443.3993917250272 ],\n",
    "      [ 180.06470243737155, 380.74854128270164 ]\n",
    "])\n",
    "\n",
    "plt.scatter(a[:,0], a[:,1])"
   ]
  },
  {
   "cell_type": "code",
   "execution_count": null,
   "metadata": {},
   "outputs": [],
   "source": []
  }
 ],
 "metadata": {
  "kernelspec": {
   "display_name": "Python 3",
   "language": "python",
   "name": "python3"
  },
  "language_info": {
   "codemirror_mode": {
    "name": "ipython",
    "version": 3
   },
   "file_extension": ".py",
   "mimetype": "text/x-python",
   "name": "python",
   "nbconvert_exporter": "python",
   "pygments_lexer": "ipython3",
   "version": "3.8.5"
  }
 },
 "nbformat": 4,
 "nbformat_minor": 4
}
